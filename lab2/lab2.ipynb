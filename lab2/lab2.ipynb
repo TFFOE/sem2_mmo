{
 "cells": [
  {
   "attachments": {},
   "cell_type": "markdown",
   "metadata": {},
   "source": [
    "### Info \n",
    "MMO lab-2\n",
    "IU5-21M, Denis Vasilev"
   ]
  },
  {
   "attachments": {},
   "cell_type": "markdown",
   "metadata": {},
   "source": [
    "### 0. Импорт библиотек и загрузка датасета\n",
    "\n",
    "Для выполнения лабораторной работы был выбран набор данных о K-Pop группах\n",
    "\n",
    "Источник: https://www.kaggle.com/datasets/nicolsalayoarias/kpop-groups-dataset"
   ]
  },
  {
   "cell_type": "code",
   "execution_count": 1,
   "metadata": {},
   "outputs": [],
   "source": [
    "import plotly.express as px\n",
    "from plotly import graph_objects\n",
    "\n",
    "import seaborn as sns\n",
    "\n",
    "import pandas as pd\n",
    "pd.set_option('mode.chained_assignment', None)\n",
    "\n",
    "import numpy as np\n",
    "import matplotlib.pyplot as plt\n",
    "import scipy.stats as stats\n"
   ]
  },
  {
   "cell_type": "code",
   "execution_count": 2,
   "metadata": {},
   "outputs": [],
   "source": [
    "def diagnostic_plots(df, variable):\n",
    "    plt.figure(figsize=(15,6))\n",
    "    # гистограмма\n",
    "    plt.subplot(1, 2, 1)\n",
    "    df[variable].hist(bins=30)\n",
    "    ## Q-Q plot\n",
    "    plt.subplot(1, 2, 2)\n",
    "    stats.probplot(df[variable], dist=\"norm\", plot=plt)\n",
    "    plt.show()"
   ]
  },
  {
   "cell_type": "code",
   "execution_count": 3,
   "metadata": {},
   "outputs": [],
   "source": [
    "ds = pd.read_csv('kpopgroups.csv')"
   ]
  },
  {
   "cell_type": "code",
   "execution_count": 4,
   "metadata": {},
   "outputs": [
    {
     "data": {
      "text/html": [
       "<div>\n",
       "<style scoped>\n",
       "    .dataframe tbody tr th:only-of-type {\n",
       "        vertical-align: middle;\n",
       "    }\n",
       "\n",
       "    .dataframe tbody tr th {\n",
       "        vertical-align: top;\n",
       "    }\n",
       "\n",
       "    .dataframe thead th {\n",
       "        text-align: right;\n",
       "    }\n",
       "</style>\n",
       "<table border=\"1\" class=\"dataframe\">\n",
       "  <thead>\n",
       "    <tr style=\"text-align: right;\">\n",
       "      <th></th>\n",
       "      <th>Name</th>\n",
       "      <th>Short</th>\n",
       "      <th>Korean Name</th>\n",
       "      <th>Gender</th>\n",
       "      <th>Debut</th>\n",
       "      <th>Company</th>\n",
       "      <th>Members</th>\n",
       "      <th>Orig Memb</th>\n",
       "      <th>Fanclub Name</th>\n",
       "      <th>Active</th>\n",
       "    </tr>\n",
       "  </thead>\n",
       "  <tbody>\n",
       "    <tr>\n",
       "      <th>0</th>\n",
       "      <td>(G)I-DLE</td>\n",
       "      <td>NaN</td>\n",
       "      <td>(여자)아이들</td>\n",
       "      <td>Female</td>\n",
       "      <td>2/05/2018</td>\n",
       "      <td>Cube</td>\n",
       "      <td>5</td>\n",
       "      <td>6</td>\n",
       "      <td>NaN</td>\n",
       "      <td>Yes</td>\n",
       "    </tr>\n",
       "    <tr>\n",
       "      <th>1</th>\n",
       "      <td>100%</td>\n",
       "      <td>NaN</td>\n",
       "      <td>백퍼센트</td>\n",
       "      <td>Male</td>\n",
       "      <td>18/09/2012</td>\n",
       "      <td>TOP Media</td>\n",
       "      <td>4</td>\n",
       "      <td>7</td>\n",
       "      <td>Perfection</td>\n",
       "      <td>Yes</td>\n",
       "    </tr>\n",
       "    <tr>\n",
       "      <th>2</th>\n",
       "      <td>14U</td>\n",
       "      <td>NaN</td>\n",
       "      <td>원포유</td>\n",
       "      <td>Male</td>\n",
       "      <td>17/04/2017</td>\n",
       "      <td>BG</td>\n",
       "      <td>14</td>\n",
       "      <td>14</td>\n",
       "      <td>NaN</td>\n",
       "      <td>No</td>\n",
       "    </tr>\n",
       "    <tr>\n",
       "      <th>3</th>\n",
       "      <td>15&amp;</td>\n",
       "      <td>NaN</td>\n",
       "      <td>피프틴앤드</td>\n",
       "      <td>Female</td>\n",
       "      <td>5/10/2012</td>\n",
       "      <td>JYP</td>\n",
       "      <td>2</td>\n",
       "      <td>2</td>\n",
       "      <td>NaN</td>\n",
       "      <td>No</td>\n",
       "    </tr>\n",
       "    <tr>\n",
       "      <th>4</th>\n",
       "      <td>1TEAM</td>\n",
       "      <td>NaN</td>\n",
       "      <td>원팀</td>\n",
       "      <td>Male</td>\n",
       "      <td>27/03/2019</td>\n",
       "      <td>LiveWorks</td>\n",
       "      <td>5</td>\n",
       "      <td>5</td>\n",
       "      <td>NaN</td>\n",
       "      <td>No</td>\n",
       "    </tr>\n",
       "  </tbody>\n",
       "</table>\n",
       "</div>"
      ],
      "text/plain": [
       "       Name Short Korean Name  Gender       Debut    Company  Members  \\\n",
       "0  (G)I-DLE   NaN     (여자)아이들  Female   2/05/2018       Cube        5   \n",
       "1      100%   NaN        백퍼센트    Male  18/09/2012  TOP Media        4   \n",
       "2       14U   NaN         원포유    Male  17/04/2017         BG       14   \n",
       "3       15&   NaN       피프틴앤드  Female   5/10/2012        JYP        2   \n",
       "4     1TEAM   NaN          원팀    Male  27/03/2019  LiveWorks        5   \n",
       "\n",
       "   Orig Memb Fanclub Name Active  \n",
       "0          6          NaN    Yes  \n",
       "1          7   Perfection    Yes  \n",
       "2         14          NaN     No  \n",
       "3          2          NaN     No  \n",
       "4          5          NaN     No  "
      ]
     },
     "execution_count": 4,
     "metadata": {},
     "output_type": "execute_result"
    }
   ],
   "source": [
    "ds.head()"
   ]
  },
  {
   "attachments": {},
   "cell_type": "markdown",
   "metadata": {},
   "source": [
    "### 1. Устранение пропусков в данных"
   ]
  },
  {
   "cell_type": "code",
   "execution_count": 5,
   "metadata": {},
   "outputs": [
    {
     "name": "stdout",
     "output_type": "stream",
     "text": [
      "['Short', 'Debut', 'Company', 'Fanclub Name']\n"
     ]
    }
   ],
   "source": [
    "cols_na = [c for c in ds.columns if ds[c].isnull().sum() > 0]\n",
    "print(cols_na)"
   ]
  },
  {
   "cell_type": "code",
   "execution_count": 6,
   "metadata": {},
   "outputs": [
    {
     "data": {
      "text/plain": [
       "[('Short', 0.8755868544600939),\n",
       " ('Debut', 0.004694835680751174),\n",
       " ('Company', 0.002347417840375587),\n",
       " ('Fanclub Name', 0.6690140845070423)]"
      ]
     },
     "execution_count": 6,
     "metadata": {},
     "output_type": "execute_result"
    }
   ],
   "source": [
    "[(c, ds[c].isnull().mean()) for c in cols_na]"
   ]
  },
  {
   "cell_type": "code",
   "execution_count": 7,
   "metadata": {},
   "outputs": [
    {
     "data": {
      "text/html": [
       "<div>\n",
       "<style scoped>\n",
       "    .dataframe tbody tr th:only-of-type {\n",
       "        vertical-align: middle;\n",
       "    }\n",
       "\n",
       "    .dataframe tbody tr th {\n",
       "        vertical-align: top;\n",
       "    }\n",
       "\n",
       "    .dataframe thead th {\n",
       "        text-align: right;\n",
       "    }\n",
       "</style>\n",
       "<table border=\"1\" class=\"dataframe\">\n",
       "  <thead>\n",
       "    <tr style=\"text-align: right;\">\n",
       "      <th></th>\n",
       "      <th>Name</th>\n",
       "      <th>Korean Name</th>\n",
       "      <th>Gender</th>\n",
       "      <th>Debut</th>\n",
       "      <th>Company</th>\n",
       "      <th>Members</th>\n",
       "      <th>Orig Memb</th>\n",
       "      <th>Active</th>\n",
       "    </tr>\n",
       "  </thead>\n",
       "  <tbody>\n",
       "    <tr>\n",
       "      <th>0</th>\n",
       "      <td>(G)I-DLE</td>\n",
       "      <td>(여자)아이들</td>\n",
       "      <td>Female</td>\n",
       "      <td>2/05/2018</td>\n",
       "      <td>Cube</td>\n",
       "      <td>5</td>\n",
       "      <td>6</td>\n",
       "      <td>Yes</td>\n",
       "    </tr>\n",
       "    <tr>\n",
       "      <th>1</th>\n",
       "      <td>100%</td>\n",
       "      <td>백퍼센트</td>\n",
       "      <td>Male</td>\n",
       "      <td>18/09/2012</td>\n",
       "      <td>TOP Media</td>\n",
       "      <td>4</td>\n",
       "      <td>7</td>\n",
       "      <td>Yes</td>\n",
       "    </tr>\n",
       "    <tr>\n",
       "      <th>2</th>\n",
       "      <td>14U</td>\n",
       "      <td>원포유</td>\n",
       "      <td>Male</td>\n",
       "      <td>17/04/2017</td>\n",
       "      <td>BG</td>\n",
       "      <td>14</td>\n",
       "      <td>14</td>\n",
       "      <td>No</td>\n",
       "    </tr>\n",
       "    <tr>\n",
       "      <th>3</th>\n",
       "      <td>15&amp;</td>\n",
       "      <td>피프틴앤드</td>\n",
       "      <td>Female</td>\n",
       "      <td>5/10/2012</td>\n",
       "      <td>JYP</td>\n",
       "      <td>2</td>\n",
       "      <td>2</td>\n",
       "      <td>No</td>\n",
       "    </tr>\n",
       "    <tr>\n",
       "      <th>4</th>\n",
       "      <td>1TEAM</td>\n",
       "      <td>원팀</td>\n",
       "      <td>Male</td>\n",
       "      <td>27/03/2019</td>\n",
       "      <td>LiveWorks</td>\n",
       "      <td>5</td>\n",
       "      <td>5</td>\n",
       "      <td>No</td>\n",
       "    </tr>\n",
       "  </tbody>\n",
       "</table>\n",
       "</div>"
      ],
      "text/plain": [
       "       Name Korean Name  Gender       Debut    Company  Members  Orig Memb  \\\n",
       "0  (G)I-DLE     (여자)아이들  Female   2/05/2018       Cube        5          6   \n",
       "1      100%        백퍼센트    Male  18/09/2012  TOP Media        4          7   \n",
       "2       14U         원포유    Male  17/04/2017         BG       14         14   \n",
       "3       15&       피프틴앤드  Female   5/10/2012        JYP        2          2   \n",
       "4     1TEAM          원팀    Male  27/03/2019  LiveWorks        5          5   \n",
       "\n",
       "  Active  \n",
       "0    Yes  \n",
       "1    Yes  \n",
       "2     No  \n",
       "3     No  \n",
       "4     No  "
      ]
     },
     "execution_count": 7,
     "metadata": {},
     "output_type": "execute_result"
    }
   ],
   "source": [
    "ds_drop = ds.drop(columns=['Short', 'Fanclub Name'])\n",
    "ds_drop.head()"
   ]
  },
  {
   "cell_type": "code",
   "execution_count": 8,
   "metadata": {},
   "outputs": [],
   "source": [
    "from sklearn.impute import SimpleImputer\n",
    "from sklearn.impute import MissingIndicator"
   ]
  },
  {
   "cell_type": "code",
   "execution_count": 9,
   "metadata": {},
   "outputs": [],
   "source": [
    "def impute_column(dataset, column, strategy_param, fill_value_param=None):\n",
    "    \"\"\"\n",
    "    Заполнение пропусков в одном признаке\n",
    "    \"\"\"\n",
    "    temp_data = dataset[[column]].values\n",
    "    size = temp_data.shape[0]\n",
    "    \n",
    "    indicator = MissingIndicator()\n",
    "    mask_missing_values_only = indicator.fit_transform(temp_data)\n",
    "    \n",
    "    imputer = SimpleImputer(strategy=strategy_param, \n",
    "                            fill_value=fill_value_param)\n",
    "    all_data = imputer.fit_transform(temp_data)\n",
    "    \n",
    "    missed_data = temp_data[mask_missing_values_only]\n",
    "    filled_data = all_data[mask_missing_values_only]\n",
    "    \n",
    "    return all_data.reshape((size,)), filled_data, missed_data"
   ]
  },
  {
   "cell_type": "code",
   "execution_count": 12,
   "metadata": {},
   "outputs": [],
   "source": [
    "Company_temp, _, _ = impute_column(ds_drop, 'Company', 'constant', fill_value_param='Missing')\n",
    "ds_new_drop = ds_drop.copy()\n",
    "ds_new_drop['Company'] = Company_temp"
   ]
  },
  {
   "attachments": {},
   "cell_type": "markdown",
   "metadata": {},
   "source": [
    "### 2. Кодирование категориальных признаков"
   ]
  },
  {
   "cell_type": "code",
   "execution_count": 14,
   "metadata": {},
   "outputs": [
    {
     "data": {
      "text/html": [
       "<div>\n",
       "<style scoped>\n",
       "    .dataframe tbody tr th:only-of-type {\n",
       "        vertical-align: middle;\n",
       "    }\n",
       "\n",
       "    .dataframe tbody tr th {\n",
       "        vertical-align: top;\n",
       "    }\n",
       "\n",
       "    .dataframe thead th {\n",
       "        text-align: right;\n",
       "    }\n",
       "</style>\n",
       "<table border=\"1\" class=\"dataframe\">\n",
       "  <thead>\n",
       "    <tr style=\"text-align: right;\">\n",
       "      <th></th>\n",
       "      <th>Name</th>\n",
       "      <th>Korean Name</th>\n",
       "      <th>Gender</th>\n",
       "      <th>Debut</th>\n",
       "      <th>Company</th>\n",
       "      <th>Members</th>\n",
       "      <th>Orig Memb</th>\n",
       "      <th>Active</th>\n",
       "    </tr>\n",
       "  </thead>\n",
       "  <tbody>\n",
       "    <tr>\n",
       "      <th>0</th>\n",
       "      <td>(G)I-DLE</td>\n",
       "      <td>0</td>\n",
       "      <td>Female</td>\n",
       "      <td>2/05/2018</td>\n",
       "      <td>Cube</td>\n",
       "      <td>5</td>\n",
       "      <td>6</td>\n",
       "      <td>Yes</td>\n",
       "    </tr>\n",
       "    <tr>\n",
       "      <th>1</th>\n",
       "      <td>100%</td>\n",
       "      <td>100</td>\n",
       "      <td>Male</td>\n",
       "      <td>18/09/2012</td>\n",
       "      <td>TOP Media</td>\n",
       "      <td>4</td>\n",
       "      <td>7</td>\n",
       "      <td>Yes</td>\n",
       "    </tr>\n",
       "    <tr>\n",
       "      <th>2</th>\n",
       "      <td>14U</td>\n",
       "      <td>288</td>\n",
       "      <td>Male</td>\n",
       "      <td>17/04/2017</td>\n",
       "      <td>BG</td>\n",
       "      <td>14</td>\n",
       "      <td>14</td>\n",
       "      <td>No</td>\n",
       "    </tr>\n",
       "    <tr>\n",
       "      <th>3</th>\n",
       "      <td>15&amp;</td>\n",
       "      <td>405</td>\n",
       "      <td>Female</td>\n",
       "      <td>5/10/2012</td>\n",
       "      <td>JYP</td>\n",
       "      <td>2</td>\n",
       "      <td>2</td>\n",
       "      <td>No</td>\n",
       "    </tr>\n",
       "    <tr>\n",
       "      <th>4</th>\n",
       "      <td>1TEAM</td>\n",
       "      <td>287</td>\n",
       "      <td>Male</td>\n",
       "      <td>27/03/2019</td>\n",
       "      <td>LiveWorks</td>\n",
       "      <td>5</td>\n",
       "      <td>5</td>\n",
       "      <td>No</td>\n",
       "    </tr>\n",
       "  </tbody>\n",
       "</table>\n",
       "</div>"
      ],
      "text/plain": [
       "       Name  Korean Name  Gender       Debut    Company  Members  Orig Memb  \\\n",
       "0  (G)I-DLE            0  Female   2/05/2018       Cube        5          6   \n",
       "1      100%          100    Male  18/09/2012  TOP Media        4          7   \n",
       "2       14U          288    Male  17/04/2017         BG       14         14   \n",
       "3       15&          405  Female   5/10/2012        JYP        2          2   \n",
       "4     1TEAM          287    Male  27/03/2019  LiveWorks        5          5   \n",
       "\n",
       "  Active  \n",
       "0    Yes  \n",
       "1    Yes  \n",
       "2     No  \n",
       "3     No  \n",
       "4     No  "
      ]
     },
     "execution_count": 14,
     "metadata": {},
     "output_type": "execute_result"
    }
   ],
   "source": [
    "ds_new_drop['Korean Name'] = ds_new_drop['Korean Name'].astype('category')\n",
    "ds_new_drop['Korean Name'] = ds_new_drop['Korean Name'].cat.codes\n",
    "\n",
    "ds_new_drop.head()"
   ]
  },
  {
   "attachments": {},
   "cell_type": "markdown",
   "metadata": {},
   "source": [
    "### 3. Нормализация числовых признаков"
   ]
  },
  {
   "cell_type": "code",
   "execution_count": 10,
   "metadata": {},
   "outputs": [
    {
     "data": {
      "image/png": "[encoded data removed]",
      "text/plain": [
       "<Figure size 1500x600 with 2 Axes>"
      ]
     },
     "metadata": {},
     "output_type": "display_data"
    }
   ],
   "source": [
    "diagnostic_plots(ds, 'Members')"
   ]
  },
  {
   "cell_type": "code",
   "execution_count": 11,
   "metadata": {},
   "outputs": [
    {
     "name": "stdout",
     "output_type": "stream",
     "text": [
      "Param is equal to 0.04521882172885903\n"
     ]
    },
    {
     "data": {
      "image/png": "[encoded data removed]",
      "text/plain": [
       "<Figure size 1500x600 with 2 Axes>"
      ]
     },
     "metadata": {},
     "output_type": "display_data"
    }
   ],
   "source": [
    "ds['Members'] = ds['Members'].astype('float')\n",
    "ds['Members_yeo'], param = stats.yeojohnson(ds['Members'])\n",
    "print (f\"Param is equal to {param}\")\n",
    "diagnostic_plots(ds, 'Members_yeo')"
   ]
  }
 ],
 "metadata": {
  "kernelspec": {
   "display_name": "mmo_env",
   "language": "python",
   "name": "python3"
  },
  "language_info": {
   "codemirror_mode": {
    "name": "ipython",
    "version": 3
   },
   "file_extension": ".py",
   "mimetype": "text/x-python",
   "name": "python",
   "nbconvert_exporter": "python",
   "pygments_lexer": "ipython3",
   "version": "3.10.5"
  },
  "orig_nbformat": 4
 },
 "nbformat": 4,
 "nbformat_minor": 2
}
